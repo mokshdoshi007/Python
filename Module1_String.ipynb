{
 "cells": [
  {
   "cell_type": "code",
   "execution_count": 2,
   "metadata": {},
   "outputs": [
    {
     "name": "stdout",
     "output_type": "stream",
     "text": [
      "Enter a String: tops\n",
      "Length of String: 4\n"
     ]
    }
   ],
   "source": [
    "#B1\n",
    "s=input(\"Enter a String: \")\n",
    "print(\"Length of String:\",len(s))"
   ]
  },
  {
   "cell_type": "code",
   "execution_count": 24,
   "metadata": {},
   "outputs": [
    {
     "name": "stdout",
     "output_type": "stream",
     "text": [
      "Enter a String: moksh\n",
      "Frequency of:\n",
      "H - 1\n",
      "K - 1\n",
      "M - 1\n",
      "O - 1\n",
      "S - 1\n"
     ]
    }
   ],
   "source": [
    "#B2\n",
    "s=input(\"Enter a String: \")\n",
    "s=s.upper()\n",
    "print(\"Frequency of:\")\n",
    "for i in range(65,91):\n",
    "    c=s.count(chr(i))\n",
    "    if c>0:\n",
    "        print(chr(i),\"-\",c)"
   ]
  },
  {
   "cell_type": "code",
   "execution_count": 25,
   "metadata": {},
   "outputs": [
    {
     "name": "stdout",
     "output_type": "stream",
     "text": [
      "Enter Main String: moksh is moksh\n",
      "Enter Substring: moksh\n",
      "Frequency of Substring in Main String: 2\n"
     ]
    }
   ],
   "source": [
    "#B6\n",
    "s1=input(\"Enter Main String: \")\n",
    "s2=input(\"Enter Substring: \")\n",
    "print(\"Frequency of Substring in Main String:\",s1.count(s2))"
   ]
  },
  {
   "cell_type": "code",
   "execution_count": 26,
   "metadata": {},
   "outputs": [
    {
     "name": "stdout",
     "output_type": "stream",
     "text": [
      "Enter a Sentence: moksh is is is\n",
      "Frequency of is is 3\n",
      "Frequency of moksh is 1\n"
     ]
    }
   ],
   "source": [
    "#B7\n",
    "s=input(\"Enter a Sentence: \")\n",
    "x=set(s.split(\" \"))\n",
    "for w in x:\n",
    "    print(\"Frequency of\",w,\"is\",s.count(w))"
   ]
  },
  {
   "cell_type": "code",
   "execution_count": 38,
   "metadata": {},
   "outputs": [
    {
     "name": "stdout",
     "output_type": "stream",
     "text": [
      "Enter 1st String: moksh\n",
      "Enter 2nd String: rajvi\n",
      "Required String - omksh arjvi\n"
     ]
    }
   ],
   "source": [
    "#I1\n",
    "s1=input(\"Enter 1st String: \")\n",
    "s2=input(\"Enter 2nd String: \")\n",
    "l=list(s1)\n",
    "l[0], l[1] = l[1], l[0]\n",
    "s1=\"\"\n",
    "s1=s1.join(l)\n",
    "l=list(s2)\n",
    "l[0], l[1] = l[1], l[0]\n",
    "s2=\"\"\n",
    "s2=s2.join(l)\n",
    "s=str(s1)+\" \"+str(s2)\n",
    "print(\"Required String -\",s)"
   ]
  },
  {
   "cell_type": "code",
   "execution_count": 41,
   "metadata": {},
   "outputs": [
    {
     "name": "stdout",
     "output_type": "stream",
     "text": [
      "Enter a String: mo\n",
      "mo\n"
     ]
    }
   ],
   "source": [
    "#I2\n",
    "s=input(\"Enter a String: \")\n",
    "if len(s)<3:\n",
    "    print(s)\n",
    "else:\n",
    "    if s.endswith(\"ing\")==True:\n",
    "        print(s+\"ly\")\n",
    "    else:\n",
    "        print(s+\"ing\")"
   ]
  },
  {
   "cell_type": "code",
   "execution_count": 47,
   "metadata": {},
   "outputs": [
    {
     "name": "stdout",
     "output_type": "stream",
     "text": [
      "Enter a String: moksh is not a very poor guy\n",
      "moksh is good guy\n"
     ]
    }
   ],
   "source": [
    "#I3\n",
    "s=input(\"Enter a String: \")\n",
    "x=s.find(\"not\")\n",
    "y=s.find(\"poor\")\n",
    "if x>-1 and y>x:\n",
    "        s=s[:x]+\"good\"+s[y+4:]\n",
    "print(s)"
   ]
  },
  {
   "cell_type": "code",
   "execution_count": 52,
   "metadata": {},
   "outputs": [
    {
     "name": "stdout",
     "output_type": "stream",
     "text": [
      "Enter a few words: moksh is awesome\n",
      "Length of longest word: 7\n"
     ]
    }
   ],
   "source": [
    "#I4\n",
    "s=input(\"Enter a few words: \")\n",
    "s+=\" \"\n",
    "j=0\n",
    "m=0\n",
    "for i in range (len(s)):\n",
    "    if s[i]==' ':\n",
    "        m=max(m,i-j)\n",
    "        j=i+1\n",
    "print(\"Length of longest word:\",m)"
   ]
  },
  {
   "cell_type": "code",
   "execution_count": 57,
   "metadata": {},
   "outputs": [
    {
     "name": "stdout",
     "output_type": "stream",
     "text": [
      "Enter a String: moksh\n",
      "Entered String: moksh\n"
     ]
    }
   ],
   "source": [
    "#I5\n",
    "s=input(\"Enter a String: \")\n",
    "if len(s)%4==0:\n",
    "    print(\"Reversed String:\",s[::-1])\n",
    "else:\n",
    "    print(\"Entered String:\",s)"
   ]
  },
  {
   "cell_type": "code",
   "execution_count": 65,
   "metadata": {},
   "outputs": [
    {
     "name": "stdout",
     "output_type": "stream",
     "text": [
      "Enter a String: w\n",
      "Empty String\n"
     ]
    }
   ],
   "source": [
    "#A1\n",
    "s=input(\"Enter a String: \")\n",
    "if len(s)<2:\n",
    "    print(\"Empty String\")\n",
    "else:\n",
    "    print(s[:2]+s[-2:])"
   ]
  },
  {
   "cell_type": "code",
   "execution_count": 70,
   "metadata": {},
   "outputs": [
    {
     "name": "stdout",
     "output_type": "stream",
     "text": [
      "Enter a String: my mom is awesome m\n",
      "Required String: my $o$ is aweso$e $\n"
     ]
    }
   ],
   "source": [
    "#A2\n",
    "s=input(\"Enter a String: \")\n",
    "x=s[0]\n",
    "s=s.replace(x,'$')\n",
    "s=x+s[1:]\n",
    "print(\"Required String:\",s)"
   ]
  },
  {
   "cell_type": "code",
   "execution_count": 76,
   "metadata": {},
   "outputs": [
    {
     "name": "stdout",
     "output_type": "stream",
     "text": [
      "Enter Main String: ok\n",
      "Enter a String to insert at middle: 1\n",
      "Final String: o1k\n"
     ]
    }
   ],
   "source": [
    "#A3\n",
    "s1=input(\"Enter Main String: \")\n",
    "s2=input(\"Enter a String to insert at middle: \")\n",
    "x=int(len(s1)/2)\n",
    "s=s1[:x]+s2+s1[x:]\n",
    "print(\"Final String:\",s)"
   ]
  }
 ],
 "metadata": {
  "kernelspec": {
   "display_name": "Python 3",
   "language": "python",
   "name": "python3"
  },
  "language_info": {
   "codemirror_mode": {
    "name": "ipython",
    "version": 3
   },
   "file_extension": ".py",
   "mimetype": "text/x-python",
   "name": "python",
   "nbconvert_exporter": "python",
   "pygments_lexer": "ipython3",
   "version": "3.8.4"
  }
 },
 "nbformat": 4,
 "nbformat_minor": 4
}
