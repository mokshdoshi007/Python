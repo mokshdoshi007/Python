{
 "cells": [
  {
   "cell_type": "code",
   "execution_count": 5,
   "metadata": {
    "scrolled": true
   },
   "outputs": [
    {
     "name": "stdout",
     "output_type": "stream",
     "text": [
      "3.8.4\n"
     ]
    }
   ],
   "source": [
    "#B2\n",
    "from platform import python_version\n",
    "print(python_version())"
   ]
  },
  {
   "cell_type": "code",
   "execution_count": 4,
   "metadata": {},
   "outputs": [
    {
     "name": "stdout",
     "output_type": "stream",
     "text": [
      "Enter a Number: 0\n",
      "Number is Zero\n"
     ]
    }
   ],
   "source": [
    "#B5\n",
    "n=int(input(\"Enter a Number: \"))\n",
    "if n>0:\n",
    "    print(\"Positive Number\")\n",
    "elif n<0:\n",
    "    print(\"Negative Number\")\n",
    "else:\n",
    "    print(\"Number is Zero\")"
   ]
  },
  {
   "cell_type": "code",
   "execution_count": 16,
   "metadata": {},
   "outputs": [
    {
     "name": "stdout",
     "output_type": "stream",
     "text": [
      "Enter Something: gbjh\n",
      "String\n"
     ]
    }
   ],
   "source": [
    "#B7\n",
    "n=input(\"Enter Something: \")\n",
    "if (n.isdigit()==True):\n",
    "    print(\"Integer\")\n",
    "else:\n",
    "    print(\"String\")"
   ]
  },
  {
   "cell_type": "code",
   "execution_count": 1,
   "metadata": {},
   "outputs": [
    {
     "name": "stdout",
     "output_type": "stream",
     "text": [
      "Enter a Number: 5\n",
      "Factorial of 5 is 120\n"
     ]
    }
   ],
   "source": [
    "#B10\n",
    "n=int(input(\"Enter a Number: \"))\n",
    "f=int(1)\n",
    "for i in range (2,n+1):\n",
    "    f*=i\n",
    "print(\"Factorial of\",n,\"is\",f)"
   ]
  },
  {
   "cell_type": "code",
   "execution_count": 3,
   "metadata": {},
   "outputs": [
    {
     "name": "stdout",
     "output_type": "stream",
     "text": [
      "How many Fibonacci numbers you want to print? 10\n",
      "0\n",
      "1\n",
      "1\n",
      "2\n",
      "3\n",
      "5\n",
      "8\n",
      "13\n",
      "21\n",
      "34\n"
     ]
    }
   ],
   "source": [
    "#B11\n",
    "n=int(input(\"How many Fibonacci numbers you want to print? \"))\n",
    "a=0\n",
    "b=1\n",
    "count=2\n",
    "print(a)\n",
    "print(b)\n",
    "while count<n:\n",
    "    c=a+b\n",
    "    a=b\n",
    "    b=c\n",
    "    print(c)\n",
    "    count+=1"
   ]
  },
  {
   "cell_type": "code",
   "execution_count": 5,
   "metadata": {},
   "outputs": [
    {
     "name": "stdout",
     "output_type": "stream",
     "text": [
      "Enter 1st Number: 2\n",
      "Enter 2nd Number: 4\n",
      "Swapping using temp:\n",
      "1st Number - 4\n",
      "2nd Number - 2\n",
      "Re-Swapping without temp:\n",
      "1st Number - 2\n",
      "2nd Number - 4\n"
     ]
    }
   ],
   "source": [
    "#I1\n",
    "a=int(input(\"Enter 1st Number: \"))\n",
    "b=int(input(\"Enter 2nd Number: \"))\n",
    "temp=a\n",
    "a=b\n",
    "b=temp\n",
    "print(\"Swapping using temp:\")\n",
    "print(\"1st Number -\",a)\n",
    "print(\"2nd Number -\",b)\n",
    "a=a+b\n",
    "b=a-b\n",
    "a=a-b\n",
    "print(\"Re-Swapping without temp:\")\n",
    "print(\"1st Number -\",a)\n",
    "print(\"2nd Number -\",b)"
   ]
  },
  {
   "cell_type": "code",
   "execution_count": 11,
   "metadata": {},
   "outputs": [
    {
     "name": "stdout",
     "output_type": "stream",
     "text": [
      "Enter a Number: 4\n",
      "Even Number\n"
     ]
    }
   ],
   "source": [
    "#I2\n",
    "n=int(input(\"Enter a Number: \"))\n",
    "if (n%2==0):\n",
    "    print(\"Even Number\")\n",
    "else:\n",
    "    print(\"Odd Number\")"
   ]
  },
  {
   "cell_type": "code",
   "execution_count": 18,
   "metadata": {},
   "outputs": [
    {
     "name": "stdout",
     "output_type": "stream",
     "text": [
      "Enter Base of Triangle: 3\n",
      "Enter Height of Triangle: 7\n",
      "Enter Radius of Circle: 3\n",
      "Area of Triangle is 10.5\n",
      "Area of Circle is 28.2744\n"
     ]
    }
   ],
   "source": [
    "#I3\n",
    "b=float(input(\"Enter Base of Triangle: \"))\n",
    "h=float(input(\"Enter Height of Triangle: \"))\n",
    "r=float(input(\"Enter Radius of Circle: \"))\n",
    "a1=b*h*0.5\n",
    "a2=3.1416*r*r\n",
    "print(\"Area of Triangle is\",a1)\n",
    "print(\"Area of Circle is\",a2)"
   ]
  },
  {
   "cell_type": "code",
   "execution_count": 21,
   "metadata": {},
   "outputs": [
    {
     "name": "stdout",
     "output_type": "stream",
     "text": [
      "Enter a Character: a\n",
      "Vowel\n"
     ]
    }
   ],
   "source": [
    "#I4\n",
    "c=input(\"Enter a Character: \")\n",
    "if (c=='A' or c=='E' or c=='I' or c=='O' or c=='U' or c=='a' or c=='e' or c=='i' or c=='o' or c=='u'):\n",
    "    print(\"Vowel\")\n",
    "else:\n",
    "    print(\"Consonant\")"
   ]
  },
  {
   "cell_type": "code",
   "execution_count": 22,
   "metadata": {},
   "outputs": [
    {
     "name": "stdout",
     "output_type": "stream",
     "text": [
      "Enter Principle Amount: 100\n",
      "Enter Rate of Interest: 3.5\n",
      "Enter Time in Years: 3\n",
      "Simple Interest is 10.5\n"
     ]
    }
   ],
   "source": [
    "#I5\n",
    "p=float(input(\"Enter Principle Amount: \"))\n",
    "r=float(input(\"Enter Rate of Interest: \"))\n",
    "t=float(input(\"Enter Time in Years: \"))\n",
    "si=p*r*t*0.01\n",
    "print(\"Simple Interest is\",si)"
   ]
  },
  {
   "cell_type": "code",
   "execution_count": 25,
   "metadata": {},
   "outputs": [
    {
     "name": "stdout",
     "output_type": "stream",
     "text": [
      "Enter 1st Number: 6\n",
      "Enter 2nd Number: 3\n",
      "Enter 3rd Number: 4\n",
      "Sorted Numbers: 3 4 6\n"
     ]
    }
   ],
   "source": [
    "#A1\n",
    "a=int(input(\"Enter 1st Number: \"))\n",
    "b=int(input(\"Enter 2nd Number: \"))\n",
    "c=int(input(\"Enter 3rd Number: \"))\n",
    "x=min(a,b,c)\n",
    "z=max(a,b,c)\n",
    "y=a+b+c-x-z\n",
    "print(\"Sorted Numbers:\",x,y,z)"
   ]
  },
  {
   "cell_type": "code",
   "execution_count": 28,
   "metadata": {},
   "outputs": [
    {
     "name": "stdout",
     "output_type": "stream",
     "text": [
      "Enter a Number: 1\n",
      "Required Value: 123\n"
     ]
    }
   ],
   "source": [
    "#A2\n",
    "n=int(input(\"Enter a Number: \"))\n",
    "print(\"Required Value:\",n+(10*n+n)+(100*n+10*n+n))"
   ]
  },
  {
   "cell_type": "code",
   "execution_count": 30,
   "metadata": {},
   "outputs": [
    {
     "name": "stdout",
     "output_type": "stream",
     "text": [
      "Enter 1st Number: 1\n",
      "Enter 2nd Number: 2\n",
      "Enter 3rd Number: 3\n",
      "Sum is 6\n"
     ]
    }
   ],
   "source": [
    "#A3\n",
    "a=int(input(\"Enter 1st Number: \"))\n",
    "b=int(input(\"Enter 2nd Number: \"))\n",
    "c=int(input(\"Enter 3rd Number: \"))\n",
    "if a==b or b==c or c==a:\n",
    "    print(\"Sum is 0\")\n",
    "else:\n",
    "    print(\"Sum is\",(a+b+c))"
   ]
  },
  {
   "cell_type": "code",
   "execution_count": 11,
   "metadata": {},
   "outputs": [
    {
     "name": "stdout",
     "output_type": "stream",
     "text": [
      "Enter 1st Number: 2\n",
      "Enter 2nd Number: 3\n",
      "True\n"
     ]
    }
   ],
   "source": [
    "#A4\n",
    "a=int(input(\"Enter 1st Number: \"))\n",
    "b=int(input(\"Enter 2nd Number: \"))\n",
    "if a==b or a+b==5 or a-b==5 or b-a==5:\n",
    "    print(\"True\")\n",
    "else:\n",
    "    print(\"False\")"
   ]
  },
  {
   "cell_type": "code",
   "execution_count": 12,
   "metadata": {},
   "outputs": [
    {
     "name": "stdout",
     "output_type": "stream",
     "text": [
      "Enter Value of n: 3\n",
      "6\n"
     ]
    }
   ],
   "source": [
    "#A5\n",
    "n=int(input(\"Enter Value of n: \"))\n",
    "print(int((n*(n+1))/2))"
   ]
  }
 ],
 "metadata": {
  "kernelspec": {
   "display_name": "Python 3",
   "language": "python",
   "name": "python3"
  },
  "language_info": {
   "codemirror_mode": {
    "name": "ipython",
    "version": 3
   },
   "file_extension": ".py",
   "mimetype": "text/x-python",
   "name": "python",
   "nbconvert_exporter": "python",
   "pygments_lexer": "ipython3",
   "version": "3.8.4"
  }
 },
 "nbformat": 4,
 "nbformat_minor": 4
}
