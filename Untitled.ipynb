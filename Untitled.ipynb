{
 "cells": [
  {
   "cell_type": "code",
   "execution_count": 2,
   "metadata": {},
   "outputs": [
    {
     "name": "stdout",
     "output_type": "stream",
     "text": [
      "Maximum Number: 5\n",
      "Minimum Number: 1\n",
      "Sum of Numbers: 15\n"
     ]
    }
   ],
   "source": [
    "#B5\n",
    "l=[1,2,3,4,5]\n",
    "m1=max(l)\n",
    "m2=min(l)\n",
    "s=0\n",
    "for i in l:\n",
    "    s+=i\n",
    "print(\"Maximum Number:\",m1)\n",
    "print(\"Minimum Number:\",m2)\n",
    "print(\"Sum of Numbers:\",s)"
   ]
  },
  {
   "cell_type": "code",
   "execution_count": 6,
   "metadata": {},
   "outputs": [
    {
     "name": "stdout",
     "output_type": "stream",
     "text": [
      "2\n"
     ]
    }
   ],
   "source": [
    "#I1\n",
    "a=['Hello','aba','ababa','xyz']\n",
    "for x in a:\n",
    "    if not (x[0]==x[-1] and len(x)>2):\n",
    "        a.remove(x)\n",
    "print(len(a))"
   ]
  },
  {
   "cell_type": "code",
   "execution_count": 7,
   "metadata": {},
   "outputs": [
    {
     "name": "stdout",
     "output_type": "stream",
     "text": [
      "['ef', 'ab', 'cd']\n"
     ]
    }
   ],
   "source": [
    "#I2\n",
    "a=['ab','ab','cd','cd','cd','ef']\n",
    "a=list(set(a))\n",
    "print(a)"
   ]
  },
  {
   "cell_type": "code",
   "execution_count": 37,
   "metadata": {},
   "outputs": [
    {
     "name": "stdout",
     "output_type": "stream",
     "text": [
      "List Empty\n"
     ]
    }
   ],
   "source": [
    "#I3\n",
    "a=[]\n",
    "if len(a)>0:\n",
    "    print(\"List Not Empty\")\n",
    "else:\n",
    "    print(\"List Empty\")"
   ]
  },
  {
   "cell_type": "code",
   "execution_count": 38,
   "metadata": {},
   "outputs": [
    {
     "name": "stdout",
     "output_type": "stream",
     "text": [
      "True\n"
     ]
    }
   ],
   "source": [
    "#I4\n",
    "a=[1,2,3]\n",
    "b=[2,4,6]\n",
    "c=[x for x in a if x in b]\n",
    "if (len(c)>0):\n",
    "    print(\"True\")\n",
    "else:\n",
    "    print(\"False\")"
   ]
  },
  {
   "cell_type": "code",
   "execution_count": 39,
   "metadata": {},
   "outputs": [
    {
     "name": "stdout",
     "output_type": "stream",
     "text": [
      "[1, 4, 9, 16, 25, 676, 729, 784, 841, 900]\n"
     ]
    }
   ],
   "source": [
    "#I5\n",
    "l=[0]*30\n",
    "a=[0]*10\n",
    "for i in range (30):\n",
    "    l[i]=(i+1)*(i+1)\n",
    "for i in range (5):\n",
    "    a[i]=l[i]\n",
    "    a[9-i]=l[-1-i]\n",
    "print(a)"
   ]
  },
  {
   "cell_type": "code",
   "execution_count": 40,
   "metadata": {},
   "outputs": [
    {
     "name": "stdout",
     "output_type": "stream",
     "text": [
      "['ef', 'ab', 'cd']\n"
     ]
    }
   ],
   "source": [
    "#I6\n",
    "a=['ab','ab','cd','cd','cd','ef']\n",
    "b=list(set(a))\n",
    "print(b)"
   ]
  },
  {
   "cell_type": "code",
   "execution_count": 41,
   "metadata": {},
   "outputs": [
    {
     "name": "stdout",
     "output_type": "stream",
     "text": [
      "abcdefg\n"
     ]
    }
   ],
   "source": [
    "#I7\n",
    "a=['a','b','c','d','e','f','g']\n",
    "s=''.join(a)\n",
    "print(s)"
   ]
  },
  {
   "cell_type": "code",
   "execution_count": 46,
   "metadata": {},
   "outputs": [
    {
     "name": "stdout",
     "output_type": "stream",
     "text": [
      "Random number from list: 2\n"
     ]
    }
   ],
   "source": [
    "#A1\n",
    "import random\n",
    "a=[1,2,3,4,5]\n",
    "print(\"Random number from list:\", random.choice(a))"
   ]
  },
  {
   "cell_type": "code",
   "execution_count": 52,
   "metadata": {},
   "outputs": [
    {
     "name": "stdout",
     "output_type": "stream",
     "text": [
      "Second Smallest Number: 2\n"
     ]
    }
   ],
   "source": [
    "#A2\n",
    "a=[5,3,1,2,4]\n",
    "a.sort()\n",
    "print(\"Second Smallest Number:\",a[1])"
   ]
  },
  {
   "cell_type": "code",
   "execution_count": 1,
   "metadata": {},
   "outputs": [
    {
     "name": "stdout",
     "output_type": "stream",
     "text": [
      "['ab', 'ef', 'cd']\n"
     ]
    }
   ],
   "source": [
    "#A3\n",
    "a=['ab','ab','cd','cd','cd','ef']\n",
    "a=list(set(a))\n",
    "print(a)"
   ]
  },
  {
   "cell_type": "code",
   "execution_count": 7,
   "metadata": {},
   "outputs": [
    {
     "name": "stdout",
     "output_type": "stream",
     "text": [
      "Yes, it is a sublist\n"
     ]
    }
   ],
   "source": [
    "#A4\n",
    "a = [1,2,3,4,5] \n",
    "b = [4,2] \n",
    "if(all(x in a for x in b)): \n",
    "    print (\"Yes, it is a sublist\") \n",
    "else : \n",
    "    print (\"No, is not a sublist\") "
   ]
  },
  {
   "cell_type": "code",
   "execution_count": 12,
   "metadata": {},
   "outputs": [
    {
     "name": "stdout",
     "output_type": "stream",
     "text": [
      "List: [1, 2, 3]\n",
      "Variables:\n",
      "b1 - 1\n",
      "b2 - 2\n",
      "b3 - 3\n"
     ]
    }
   ],
   "source": [
    "#A5\n",
    "a=[1,2,3]\n",
    "b1,b2,b3=[a[i] for i in range(3)]\n",
    "print(\"List:\",a)\n",
    "print(\"Variables:\")\n",
    "print(\"b1 -\",b1)\n",
    "print(\"b2 -\",b2)\n",
    "print(\"b3 -\",b3)"
   ]
  },
  {
   "cell_type": "code",
   "execution_count": 18,
   "metadata": {},
   "outputs": [
    {
     "name": "stdout",
     "output_type": "stream",
     "text": [
      "(1, 2.3, 'Moksh', 'a', True)\n"
     ]
    }
   ],
   "source": [
    "#B2\n",
    "a=(1,2.3,\"Moksh\",'a',True)\n",
    "print(a)"
   ]
  },
  {
   "cell_type": "code",
   "execution_count": 19,
   "metadata": {},
   "outputs": [
    {
     "name": "stdout",
     "output_type": "stream",
     "text": [
      "(1, 2, 3, 4, 5)\n"
     ]
    }
   ],
   "source": [
    "#B3\n",
    "a=(1,2,3,4,5)\n",
    "print(a)"
   ]
  },
  {
   "cell_type": "code",
   "execution_count": 20,
   "metadata": {},
   "outputs": [
    {
     "name": "stdout",
     "output_type": "stream",
     "text": [
      "abcdefg\n"
     ]
    }
   ],
   "source": [
    "#B4\n",
    "a=('a','b','c','d','e','f','g')\n",
    "s=''.join(a)\n",
    "print(s)"
   ]
  },
  {
   "cell_type": "code",
   "execution_count": 24,
   "metadata": {},
   "outputs": [
    {
     "name": "stdout",
     "output_type": "stream",
     "text": [
      "Enter a Number: 3\n",
      "True\n"
     ]
    }
   ],
   "source": [
    "#B5\n",
    "a=(1,2,3,4,5)\n",
    "n=int(input(\"Enter a Number: \"))\n",
    "if n in a:\n",
    "    print(True)\n",
    "else:\n",
    "    print(False)"
   ]
  },
  {
   "cell_type": "code",
   "execution_count": 28,
   "metadata": {},
   "outputs": [
    {
     "name": "stdout",
     "output_type": "stream",
     "text": [
      "(1, 2, 3, 4, 5)\n"
     ]
    }
   ],
   "source": [
    "#B6\n",
    "l=[1,2,3,4,5]\n",
    "a=tuple(l)\n",
    "print(a)"
   ]
  },
  {
   "cell_type": "code",
   "execution_count": 27,
   "metadata": {},
   "outputs": [
    {
     "name": "stdout",
     "output_type": "stream",
     "text": [
      "5\n"
     ]
    }
   ],
   "source": [
    "#B7\n",
    "a=(1,2,3,4,5)\n",
    "print(len(a))"
   ]
  },
  {
   "cell_type": "code",
   "execution_count": 2,
   "metadata": {},
   "outputs": [
    {
     "name": "stdout",
     "output_type": "stream",
     "text": [
      "(5, 4, 3, 2, 1)\n"
     ]
    }
   ],
   "source": [
    "#I1\n",
    "a=(1,2,3,4,5)\n",
    "a=a[::-1]\n",
    "print(a)"
   ]
  },
  {
   "cell_type": "code",
   "execution_count": 4,
   "metadata": {},
   "outputs": [
    {
     "name": "stdout",
     "output_type": "stream",
     "text": [
      "Enter a Number to replace last element: 7\n",
      "(1, 2, 3, 4, 7)\n"
     ]
    }
   ],
   "source": [
    "#I2\n",
    "a=(1,2,3,4,5)\n",
    "n=int(input(\"Enter a Number to replace last element: \"))\n",
    "b=list(a)\n",
    "b[4]=n\n",
    "a=tuple(b)\n",
    "print(a)"
   ]
  },
  {
   "cell_type": "code",
   "execution_count": 7,
   "metadata": {},
   "outputs": [
    {
     "name": "stdout",
     "output_type": "stream",
     "text": [
      "('cd', 'ab')\n"
     ]
    }
   ],
   "source": [
    "#I3\n",
    "a=('ab','ab','cd','cd','cd','ef')\n",
    "b=set()\n",
    "for i in a:\n",
    "    if(a.count(i)>1):\n",
    "        b.add(i)\n",
    "print(tuple(b))"
   ]
  },
  {
   "cell_type": "code",
   "execution_count": 10,
   "metadata": {},
   "outputs": [
    {
     "name": "stdout",
     "output_type": "stream",
     "text": [
      "[(1, 2), ('a', 'b'), 'Moksh', 3.4]\n"
     ]
    }
   ],
   "source": [
    "#A1\n",
    "a = [(1,2),(),('a', 'b'),(),(),(\"Moksh\"),(),(3.4)]\n",
    "b = [x for x in a if x]\n",
    "print(b)"
   ]
  },
  {
   "cell_type": "code",
   "execution_count": 14,
   "metadata": {},
   "outputs": [
    {
     "name": "stdout",
     "output_type": "stream",
     "text": [
      "[[1, 3, 5, 7], [2, 4, 6, 8]]\n"
     ]
    }
   ],
   "source": [
    "#A2\n",
    "a = [(1,2), (3,4), (5,6),(7,8)]\n",
    "b = [[i for i,j in a],[j for i,j in a]]\n",
    "print(b)"
   ]
  },
  {
   "cell_type": "code",
   "execution_count": 25,
   "metadata": {},
   "outputs": [
    {
     "name": "stdout",
     "output_type": "stream",
     "text": [
      "{1: 2, 3: 4, 5: 6, 7: 8}\n"
     ]
    }
   ],
   "source": [
    "#A3\n",
    "a = [(1,2), (3,4), (5,6),(7,8)]\n",
    "b={i:j for i,j in a}\n",
    "print(b)"
   ]
  },
  {
   "cell_type": "code",
   "execution_count": 75,
   "metadata": {},
   "outputs": [
    {
     "name": "stdout",
     "output_type": "stream",
     "text": [
      "{'e': 1, 'b': 2, 'a': 3, 'c': 4, 'd': 5}\n",
      "{'d': 5, 'c': 4, 'a': 3, 'b': 2, 'e': 1}\n"
     ]
    }
   ],
   "source": [
    "#B4\n",
    "d={'a':3, 'b':2, 'c':4, 'd':5, 'e':1}\n",
    "d1=sorted((x,y) for (y,x) in d.items())\n",
    "d2=sorted(((x,y) for (y,x) in d.items()),reverse=True)\n",
    "d1={y:x for x,y in d1}\n",
    "d2={y:x for x,y in d2}\n",
    "print(d1)\n",
    "print(d2)"
   ]
  },
  {
   "cell_type": "code",
   "execution_count": 85,
   "metadata": {},
   "outputs": [
    {
     "name": "stdout",
     "output_type": "stream",
     "text": [
      "{1: 2, 3: 4, 5: 6, 7: 8, 9: 10}\n"
     ]
    }
   ],
   "source": [
    "#B5\n",
    "a={1:2, 3:4, 5:6}\n",
    "b={7:8, 9:10}\n",
    "c=a\n",
    "c.update(b)\n",
    "print(c)"
   ]
  },
  {
   "cell_type": "code",
   "execution_count": 82,
   "metadata": {},
   "outputs": [
    {
     "name": "stdout",
     "output_type": "stream",
     "text": [
      "Enter number to check for key: 7\n",
      "True\n"
     ]
    }
   ],
   "source": [
    "#B6\n",
    "a={1:2, 3:4, 5:6, 7:8, 9:10}\n",
    "n=int(input(\"Enter number to check for key: \"))\n",
    "if n in a.keys():\n",
    "    print(True)\n",
    "else:\n",
    "    print(False)"
   ]
  },
  {
   "cell_type": "code",
   "execution_count": 84,
   "metadata": {},
   "outputs": [
    {
     "name": "stdout",
     "output_type": "stream",
     "text": [
      "{1: 1, 2: 4, 3: 9, 4: 16, 5: 25, 6: 36, 7: 49, 8: 64, 9: 81, 10: 100, 11: 121, 12: 144, 13: 169, 14: 196, 15: 225}\n"
     ]
    }
   ],
   "source": [
    "#I1\n",
    "d=dict()\n",
    "for i in range(1,16):\n",
    "    d[i]=i*i\n",
    "print(d)"
   ]
  },
  {
   "cell_type": "code",
   "execution_count": 12,
   "metadata": {},
   "outputs": [
    {
     "name": "stdout",
     "output_type": "stream",
     "text": [
      "Multiple keys don't exist\n"
     ]
    }
   ],
   "source": [
    "#I2\n",
    "a={1:2, 3:4, 5:6}\n",
    "l=list(a.keys())\n",
    "k=0\n",
    "for x in l:\n",
    "    if l.count(x)>1:\n",
    "        k=1\n",
    "if k==0:\n",
    "    print(\"Multiple keys don't exist\")\n",
    "else:\n",
    "    print(\"Multiple keys exist\")"
   ]
  },
  {
   "cell_type": "code",
   "execution_count": 86,
   "metadata": {},
   "outputs": [
    {
     "name": "stdout",
     "output_type": "stream",
     "text": [
      "{1: 2, 3: 4, 5: 6, 7: 8, 9: 10}\n"
     ]
    }
   ],
   "source": [
    "#I3\n",
    "a={1:2, 3:4, 5:6}\n",
    "b={7:8, 9:10}\n",
    "a.update(b)\n",
    "print(a)"
   ]
  },
  {
   "cell_type": "code",
   "execution_count": 13,
   "metadata": {},
   "outputs": [
    {
     "name": "stdout",
     "output_type": "stream",
     "text": [
      "{1: 2, 3: 4, 5: 6}\n"
     ]
    }
   ],
   "source": [
    "#I4\n",
    "keys=[1,3,5]\n",
    "values=[2,4,6]\n",
    "a=dict(zip(keys, values))\n",
    "print(a)"
   ]
  },
  {
   "cell_type": "code",
   "execution_count": 89,
   "metadata": {},
   "outputs": [
    {
     "name": "stdout",
     "output_type": "stream",
     "text": [
      "Counter({'a': 400, 'b': 400, 'd': 400, 'c': 300})\n"
     ]
    }
   ],
   "source": [
    "#I5\n",
    "from collections import Counter\n",
    "d1={'a':100, 'b':200, 'c':300}\n",
    "d2={'a':300, 'b':200, 'd':400}\n",
    "d=Counter(b)+Counter(a)\n",
    "print(d)"
   ]
  },
  {
   "cell_type": "code",
   "execution_count": 2,
   "metadata": {},
   "outputs": [
    {
     "name": "stdout",
     "output_type": "stream",
     "text": [
      "6\n"
     ]
    }
   ],
   "source": [
    "#I6\n",
    "a={1:2, 3:4, 5:6, 7:2, 9:4}\n",
    "b=list(a.values())\n",
    "for i in b:\n",
    "    if b.count(i)==1:\n",
    "        print(i)"
   ]
  },
  {
   "cell_type": "code",
   "execution_count": 15,
   "metadata": {},
   "outputs": [
    {
     "name": "stdout",
     "output_type": "stream",
     "text": [
      "ac\n",
      "ad\n",
      "bc\n",
      "bd\n"
     ]
    }
   ],
   "source": [
    "#A1\n",
    "import itertools      \n",
    "d ={'1':['a','b'], '2':['c','d']}\n",
    "for combo in itertools.product(*[d[k] for k in d.keys()]):\n",
    "    print(''.join(combo))"
   ]
  },
  {
   "cell_type": "code",
   "execution_count": 3,
   "metadata": {},
   "outputs": [
    {
     "name": "stdout",
     "output_type": "stream",
     "text": [
      "10\n",
      "8\n",
      "6\n"
     ]
    }
   ],
   "source": [
    "#A2\n",
    "a={1:2, 3:4, 5:6, 7:8, 9:10}\n",
    "a=sorted(((x,y) for (y,x) in a.items()),reverse=True)\n",
    "c=0\n",
    "for (x,y) in a:\n",
    "    if(c<3):\n",
    "        print(x)\n",
    "        c+=1\n",
    "    else:\n",
    "        break"
   ]
  },
  {
   "cell_type": "code",
   "execution_count": 8,
   "metadata": {},
   "outputs": [
    {
     "name": "stdout",
     "output_type": "stream",
     "text": [
      "Counter({'item1': 1150, 'item2': 300})\n"
     ]
    }
   ],
   "source": [
    "#A3\n",
    "from collections import Counter\n",
    "l=[{'item': 'item1', 'amount': 400}, {'item': 'item2', 'amount': 300}, {'item': 'item1', 'amount': 750}]\n",
    "a=Counter()\n",
    "for d in l:\n",
    "    a[d['item']]+=d['amount']\n",
    "print(a)"
   ]
  },
  {
   "cell_type": "code",
   "execution_count": 13,
   "metadata": {},
   "outputs": [
    {
     "name": "stdout",
     "output_type": "stream",
     "text": [
      "Enter a String: w3resource\n",
      "{'w': 1, '3': 1, 'r': 2, 'e': 2, 's': 1, 'o': 1, 'u': 1, 'c': 1}\n"
     ]
    }
   ],
   "source": [
    "#A4\n",
    "s=input(\"Enter a String: \")\n",
    "d=dict()\n",
    "for x in s:\n",
    "    if x in d:\n",
    "        d[x]+=1\n",
    "    else:\n",
    "        d[x]=1\n",
    "print(d)"
   ]
  },
  {
   "cell_type": "code",
   "execution_count": 17,
   "metadata": {},
   "outputs": [
    {
     "name": "stdout",
     "output_type": "stream",
     "text": [
      "Enter a Number: 5\n",
      "Factorial is 120\n"
     ]
    }
   ],
   "source": [
    "#B1\n",
    "def fact(n):\n",
    "    if n==1:\n",
    "        return 1\n",
    "    else:\n",
    "        return n*fact(n-1)\n",
    "n=int(input(\"Enter a Number: \"))\n",
    "print(\"Factorial is\",fact(n))"
   ]
  },
  {
   "cell_type": "code",
   "execution_count": 27,
   "metadata": {},
   "outputs": [
    {
     "name": "stdout",
     "output_type": "stream",
     "text": [
      "Enter lower limit: 2\n",
      "Enter upper limit: 6\n",
      "Enter a Number: 4\n",
      "4 in Range? True\n"
     ]
    }
   ],
   "source": [
    "#B2\n",
    "def checkrange(a,b,n):\n",
    "    if(a<=n and n<=b):\n",
    "        return True\n",
    "    else:\n",
    "        return False\n",
    "a=int(input(\"Enter lower limit: \"))\n",
    "b=int(input(\"Enter upper limit: \"))\n",
    "n=int(input(\"Enter a Number: \"))\n",
    "print(n,\"in Range?\",checkrange(a,b,n))"
   ]
  },
  {
   "cell_type": "code",
   "execution_count": 22,
   "metadata": {},
   "outputs": [
    {
     "name": "stdout",
     "output_type": "stream",
     "text": [
      "Enter a Number:6\n",
      "Is 6 a Perfect Number? True\n"
     ]
    }
   ],
   "source": [
    "#B3\n",
    "def pn(n):\n",
    "    sum = 0\n",
    "    for i in range(1, int(n/2)+1):\n",
    "        if n%i==0:\n",
    "            sum+=i\n",
    "    return sum==n\n",
    "n=int(input(\"Enter a Number:\"))\n",
    "print(\"Is\",n,\"a Perfect Number?\",pn(n))"
   ]
  },
  {
   "cell_type": "code",
   "execution_count": 30,
   "metadata": {},
   "outputs": [
    {
     "name": "stdout",
     "output_type": "stream",
     "text": [
      "Enter a String: madam\n",
      "Is madam Palindrome? True\n"
     ]
    }
   ],
   "source": [
    "#B4\n",
    "def checkpal(s):\n",
    "    if s==s[::-1]:\n",
    "        return True\n",
    "    else:\n",
    "        return False\n",
    "s=input(\"Enter a String: \")\n",
    "print(\"Is\",s,\"Palindrome?\",checkpal(s))"
   ]
  },
  {
   "cell_type": "code",
   "execution_count": 47,
   "metadata": {},
   "outputs": [
    {
     "name": "stdout",
     "output_type": "stream",
     "text": [
      "Hello\n"
     ]
    }
   ],
   "source": [
    "#I1\n",
    "def message(msg):\n",
    "    def display():\n",
    "        print(msg)\n",
    "    return display\n",
    "ok=message(\"Hello\")\n",
    "ok()"
   ]
  },
  {
   "cell_type": "code",
   "execution_count": 49,
   "metadata": {},
   "outputs": [
    {
     "name": "stdout",
     "output_type": "stream",
     "text": [
      "Variables: 3\n"
     ]
    }
   ],
   "source": [
    "#I2\n",
    "def fun(): \n",
    "    a=1\n",
    "    b=2.3\n",
    "    s=\"Moksh\"\n",
    "print(\"Variables:\",fun.__code__.co_nlocals)"
   ]
  },
  {
   "cell_type": "code",
   "execution_count": 52,
   "metadata": {},
   "outputs": [
    {
     "name": "stdout",
     "output_type": "stream",
     "text": [
      "Enter a String: moksh\n",
      "Reversed String: hskom\n"
     ]
    }
   ],
   "source": [
    "#A2\n",
    "def rev(s):\n",
    "    return s[::-1]\n",
    "s=input(\"Enter a String: \")\n",
    "print(\"Reversed String:\",rev(s))"
   ]
  },
  {
   "cell_type": "code",
   "execution_count": 1,
   "metadata": {},
   "outputs": [
    {
     "ename": "FileNotFoundError",
     "evalue": "[Errno 2] No such file or directory: 'data.txt'",
     "output_type": "error",
     "traceback": [
      "\u001b[1;31m---------------------------------------------------------------------------\u001b[0m",
      "\u001b[1;31mFileNotFoundError\u001b[0m                         Traceback (most recent call last)",
      "\u001b[1;32m<ipython-input-1-d9ab32852c24>\u001b[0m in \u001b[0;36m<module>\u001b[1;34m\u001b[0m\n\u001b[0;32m      1\u001b[0m \u001b[1;32mimport\u001b[0m \u001b[0mrandom\u001b[0m\u001b[1;33m\u001b[0m\u001b[1;33m\u001b[0m\u001b[0m\n\u001b[1;32m----> 2\u001b[1;33m \u001b[0mlines\u001b[0m\u001b[1;33m=\u001b[0m\u001b[0mopen\u001b[0m\u001b[1;33m(\u001b[0m\u001b[1;34m\"data.txt\"\u001b[0m\u001b[1;33m)\u001b[0m\u001b[1;33m.\u001b[0m\u001b[0mread\u001b[0m\u001b[1;33m(\u001b[0m\u001b[1;33m)\u001b[0m\u001b[1;33m.\u001b[0m\u001b[0msplitlines\u001b[0m\u001b[1;33m(\u001b[0m\u001b[1;33m)\u001b[0m\u001b[1;33m\u001b[0m\u001b[1;33m\u001b[0m\u001b[0m\n\u001b[0m\u001b[0;32m      3\u001b[0m \u001b[0mprint\u001b[0m\u001b[1;33m(\u001b[0m\u001b[0mrandom\u001b[0m\u001b[1;33m.\u001b[0m\u001b[0mchoice\u001b[0m\u001b[1;33m(\u001b[0m\u001b[0mlines\u001b[0m\u001b[1;33m)\u001b[0m\u001b[1;33m)\u001b[0m\u001b[1;33m\u001b[0m\u001b[1;33m\u001b[0m\u001b[0m\n",
      "\u001b[1;31mFileNotFoundError\u001b[0m: [Errno 2] No such file or directory: 'data.txt'"
     ]
    }
   ],
   "source": [
    "import random\n",
    "lines=open(\"data.txt\").read().splitlines()\n",
    "print(random.choice(lines))"
   ]
  },
  {
   "cell_type": "code",
   "execution_count": 4,
   "metadata": {},
   "outputs": [
    {
     "name": "stdout",
     "output_type": "stream",
     "text": [
      "Enter Degrees: 180\n",
      "180.0  Degrees is equal to 3.141592653589793 Radians\n"
     ]
    }
   ],
   "source": [
    "#I2\n",
    "import math\n",
    "d=float(input(\"Enter Degrees: \"))\n",
    "print(d,\" Degrees is equal to\",math.radians(d),\"Radians\") "
   ]
  },
  {
   "cell_type": "code",
   "execution_count": 6,
   "metadata": {},
   "outputs": [
    {
     "name": "stdout",
     "output_type": "stream",
     "text": [
      "Enter Value of a: 3\n",
      "Enter Value of b: 4\n",
      "Enter Value of h: 5\n",
      "Area of Trapezoid: 17.5\n"
     ]
    }
   ],
   "source": [
    "#I3\n",
    "a=float(input(\"Enter Value of a: \"))\n",
    "b=float(input(\"Enter Value of b: \"))\n",
    "h=float(input(\"Enter Value of h: \"))\n",
    "area=((a+b)/2)*h\n",
    "print(\"Area of Trapezoid:\",area)"
   ]
  },
  {
   "cell_type": "code",
   "execution_count": 8,
   "metadata": {},
   "outputs": [
    {
     "name": "stdout",
     "output_type": "stream",
     "text": [
      "Enter Value of Base: 4\n",
      "Enter Value of Height: 3\n",
      "Area of Parallelogram: 12.0\n"
     ]
    }
   ],
   "source": [
    "#I4\n",
    "b=float(input(\"Enter Value of Base: \"))\n",
    "h=float(input(\"Enter Value of Height: \"))\n",
    "area=b*h\n",
    "print(\"Area of Parallelogram:\",area)"
   ]
  },
  {
   "cell_type": "code",
   "execution_count": 10,
   "metadata": {},
   "outputs": [
    {
     "name": "stdout",
     "output_type": "stream",
     "text": [
      "Enter Value of Radius: 7\n",
      "Enter Value of Height: 2\n",
      "Area of Cylinder: 395.84067435231395\n",
      "Volume of Cylinder: 307.8760800517997\n"
     ]
    }
   ],
   "source": [
    "#I5\n",
    "import math\n",
    "r=float(input(\"Enter Value of Radius: \"))\n",
    "h=float(input(\"Enter Value of Height: \"))\n",
    "volume=math.pi*r*r*h\n",
    "area=math.pi*2*r*(r+h)\n",
    "print(\"Area of Cylinder:\",area)\n",
    "print(\"Volume of Cylinder:\",volume)"
   ]
  },
  {
   "cell_type": "code",
   "execution_count": 23,
   "metadata": {},
   "outputs": [
    {
     "name": "stdout",
     "output_type": "stream",
     "text": [
      "Enter a Number: 8\n",
      "Sum of Divisors: 7\n"
     ]
    }
   ],
   "source": [
    "#I6\n",
    "n=int(input(\"Enter a Number: \"))\n",
    "d=[1]\n",
    "for i in range(2, int(n/2)+1):\n",
    "    if n%i==0:\n",
    "        d.append(i)\n",
    "print(\"Sum of Divisors:\",sum(d))"
   ]
  },
  {
   "cell_type": "code",
   "execution_count": 24,
   "metadata": {},
   "outputs": [
    {
     "name": "stdout",
     "output_type": "stream",
     "text": [
      "Maximum Number: 7.6\n",
      "Minimum Number: 0.5\n"
     ]
    }
   ],
   "source": [
    "#I7\n",
    "d=[6.6,0.9,7.6,0.5,1.2,2.4,5.3]\n",
    "print(\"Maximum Number:\",max(d))\n",
    "print(\"Minimum Number:\",min(d))"
   ]
  },
  {
   "cell_type": "code",
   "execution_count": 32,
   "metadata": {},
   "outputs": [
    {
     "name": "stdout",
     "output_type": "stream",
     "text": [
      "Sum: 20.33\n",
      "Sorted Order: [Decimal('0.04'), Decimal('2.00'), Decimal('2.45'), Decimal('2.45'), Decimal('2.69'), Decimal('3.45'), Decimal('7.25')]\n"
     ]
    }
   ],
   "source": [
    "#A1\n",
    "from decimal import *\n",
    "d=list(map(Decimal, '2.45 2.69 2.45 3.45 2.00 0.04 7.25'.split()))\n",
    "print(\"Sum:\",sum(d))\n",
    "print(\"Sorted Order:\",sorted(d))"
   ]
  },
  {
   "cell_type": "code",
   "execution_count": 34,
   "metadata": {},
   "outputs": [
    {
     "name": "stdout",
     "output_type": "stream",
     "text": [
      "Square root of  2.25  is : 1.5\n",
      "Exponential of  2.25  is : 9.487735836358525720550369045\n"
     ]
    }
   ],
   "source": [
    "from decimal import *\n",
    "n=Decimal('2.25')\n",
    "print(\"Square root of \",n, \" is :\",n.sqrt())\n",
    "print(\"Exponential of \",n, \" is :\",n.exp())"
   ]
  },
  {
   "cell_type": "code",
   "execution_count": 35,
   "metadata": {},
   "outputs": [
    {
     "name": "stdout",
     "output_type": "stream",
     "text": [
      "2/3 + 3/7 = 23/21\n",
      "2/3 - 3/7 = 5/21\n",
      "2/3 * 3/7 = 2/7\n",
      "2/3 / 3/7 = 14/9\n"
     ]
    }
   ],
   "source": [
    "from fractions import Fraction\n",
    "f1=Fraction(2, 3)\n",
    "f2=Fraction(3, 7)\n",
    "print('{} + {} = {}'.format(f1,f2,f1+f2))\n",
    "print('{} - {} = {}'.format(f1,f2,f1-f2))\n",
    "print('{} * {} = {}'.format(f1,f2,f1*f2))\n",
    "print('{} / {} = {}'.format(f1,f2,f1/f2))"
   ]
  },
  {
   "cell_type": "code",
   "execution_count": 12,
   "metadata": {},
   "outputs": [
    {
     "name": "stdout",
     "output_type": "stream",
     "text": [
      "Enter Odd Numbers (0 to Stop): 3\n",
      "Enter Odd Numbers (0 to Stop): 4\n",
      "You entered an Even Number\n",
      "Enter Odd Numbers (0 to Stop): 5\n",
      "Enter Odd Numbers (0 to Stop): 0\n"
     ]
    }
   ],
   "source": [
    "#B8\n",
    "class Error(Exception):\n",
    "    pass\n",
    "class EvenError(Error):\n",
    "    pass\n",
    "while True:\n",
    "    try:\n",
    "        n=int(input(\"Enter Odd Numbers (0 to Stop): \"))\n",
    "        if n==0:\n",
    "            break\n",
    "        elif n%2==0:\n",
    "            raise EvenError\n",
    "    except EvenError:\n",
    "        print(\"You entered an Even Number\")"
   ]
  },
  {
   "cell_type": "code",
   "execution_count": 17,
   "metadata": {},
   "outputs": [
    {
     "name": "stdout",
     "output_type": "stream",
     "text": [
      "Division by Zero is not Possible\n"
     ]
    }
   ],
   "source": [
    "#I1\n",
    "try:\n",
    "    print(10/0)\n",
    "except (ZeroDivisionError):\n",
    "    print(\"Division by Zero is not Possible\")"
   ]
  },
  {
   "cell_type": "code",
   "execution_count": 9,
   "metadata": {},
   "outputs": [
    {
     "name": "stdout",
     "output_type": "stream",
     "text": [
      "Enter a Number: 5\n",
      "Enter Higher Number\n",
      "Enter a Number: 7\n",
      "Enter Higher Number\n",
      "Enter a Number: 9\n",
      "Enter Lower Number\n",
      "Enter a Number: 8\n",
      "Number Guessed Correctly\n"
     ]
    }
   ],
   "source": [
    "#A2\n",
    "class Error(Exception):\n",
    "    pass\n",
    "class LesserError(Error):\n",
    "    pass\n",
    "class GreaterError(Error):\n",
    "    pass\n",
    "import random\n",
    "number=(random.randint(0,9))\n",
    "while True:\n",
    "    try:\n",
    "        n=int(input(\"Enter a Number: \"))\n",
    "        if n<number:\n",
    "            raise LesserError\n",
    "        elif n>number:\n",
    "            raise GreaterError\n",
    "        break\n",
    "    except LesserError:\n",
    "        print(\"Enter Higher Number\")\n",
    "    except GreaterError:\n",
    "        print(\"Enter Lower Number\")\n",
    "print(\"Number Guessed Correctly\")"
   ]
  },
  {
   "cell_type": "code",
   "execution_count": 2,
   "metadata": {},
   "outputs": [
    {
     "name": "stdout",
     "output_type": "stream",
     "text": [
      "212.0\n"
     ]
    }
   ],
   "source": [
    "#A3\n",
    "def ktof(k):\n",
    "    return (k-273)*(9/5)+32\n",
    "print(ktof(373))"
   ]
  },
  {
   "cell_type": "code",
   "execution_count": 18,
   "metadata": {},
   "outputs": [
    {
     "name": "stdout",
     "output_type": "stream",
     "text": [
      "Some Error Occured\n"
     ]
    }
   ],
   "source": [
    "#A4\n",
    "try:\n",
    "    print(10/0)\n",
    "except:\n",
    "    print(\"Some Error Occured\")"
   ]
  },
  {
   "cell_type": "code",
   "execution_count": null,
   "metadata": {},
   "outputs": [],
   "source": []
  }
 ],
 "metadata": {
  "kernelspec": {
   "display_name": "Python 3",
   "language": "python",
   "name": "python3"
  },
  "language_info": {
   "codemirror_mode": {
    "name": "ipython",
    "version": 3
   },
   "file_extension": ".py",
   "mimetype": "text/x-python",
   "name": "python",
   "nbconvert_exporter": "python",
   "pygments_lexer": "ipython3",
   "version": "3.8.4"
  }
 },
 "nbformat": 4,
 "nbformat_minor": 4
}
