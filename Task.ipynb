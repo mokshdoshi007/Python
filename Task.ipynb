{
 "cells": [
  {
   "cell_type": "code",
   "execution_count": 3,
   "metadata": {},
   "outputs": [
    {
     "name": "stdout",
     "output_type": "stream",
     "text": [
      "Enter Your Percentage54\n",
      "Fail\n"
     ]
    }
   ],
   "source": [
    "per=int(input(\"Enter Your Percentage\"))\n",
    "if per>=70:\n",
    "    print(\"Distinction\")\n",
    "elif per>=65 and per<70:\n",
    "    print(\"1st Class\")\n",
    "elif per>=60 and per<65:\n",
    "    print(\"2nd Class\")\n",
    "elif per>=55 and per<60:\n",
    "    print(\"3rd Class\")\n",
    "else:\n",
    "    print(\"Fail\")"
   ]
  },
  {
   "cell_type": "code",
   "execution_count": 37,
   "metadata": {},
   "outputs": [
    {
     "name": "stdout",
     "output_type": "stream",
     "text": [
      "Do you have four wheeler?(Yes/No): Yes\n",
      "1. 4 Small Pizza\n",
      "2. 4 Medium Pizza\n",
      "3. 4 Large Pizza\n",
      "4. 1 Monster Pizza\n",
      "Enter your choice to buy: 5\n",
      "Invalid Choice\n"
     ]
    }
   ],
   "source": [
    "ch=input(\"Do you have four wheeler?(Yes/No): \")\n",
    "if ch==\"Yes\":\n",
    "    print(\"1. 4 Small Pizza\")\n",
    "    print(\"2. 4 Medium Pizza\")\n",
    "    print(\"3. 4 Large Pizza\")\n",
    "    print(\"4. 1 Monster Pizza\")\n",
    "    ch2=int(input(\"Enter your choice to buy: \"))\n",
    "    if ch2==1:\n",
    "        print(\"500ml Coke Free\")\n",
    "    elif ch2==2:\n",
    "        print(\"1litre Coke Free\")\n",
    "    elif ch2==3:\n",
    "        print(\"1 ice-cream and brownie Free\")\n",
    "    elif ch2==4:\n",
    "        print(\"1 Small Pizza and 500ml Coke Free\")\n",
    "    else:\n",
    "        print(\"Invalid Choice\")\n",
    "elif ch==\"No\":\n",
    "    print(\"Cannot buy Pizza\")\n",
    "else:\n",
    "    print(\"Invalid Input\")"
   ]
  },
  {
   "cell_type": "code",
   "execution_count": 31,
   "metadata": {},
   "outputs": [
    {
     "name": "stdout",
     "output_type": "stream",
     "text": [
      "5 X  1  =  5\n",
      "5 X  2  =  10\n",
      "5 X  3  =  15\n",
      "5 X  4  =  20\n",
      "5 X  5  =  25\n",
      "5 X  6  =  30\n",
      "5 X  7  =  35\n",
      "5 X  8  =  40\n",
      "5 X  9  =  45\n",
      "5 X  10  =  50\n",
      "\n",
      "11 X  1  =  11\n",
      "11 X  2  =  22\n",
      "11 X  3  =  33\n",
      "11 X  4  =  44\n",
      "11 X  5  =  55\n",
      "11 X  6  =  66\n",
      "11 X  7  =  77\n",
      "11 X  8  =  88\n",
      "11 X  9  =  99\n",
      "11 X  10  =  110\n"
     ]
    }
   ],
   "source": [
    "n=1\n",
    "while n<11:\n",
    "    print(\"5 X \",n,\" = \",(5*n))\n",
    "    n+=1\n",
    "n=1\n",
    "print()\n",
    "while n<11:\n",
    "    print(\"11 X \",n,\" = \",(11*n))\n",
    "    n+=1"
   ]
  },
  {
   "cell_type": "code",
   "execution_count": 27,
   "metadata": {
    "scrolled": true
   },
   "outputs": [
    {
     "name": "stdout",
     "output_type": "stream",
     "text": [
      "Enter a Number: 76\n",
      "Not a Palindrome Number\n"
     ]
    }
   ],
   "source": [
    "n=int(input(\"Enter a Number: \"))\n",
    "n2=n\n",
    "r=int(0)\n",
    "while n!=0:\n",
    "    x=int(n%10)\n",
    "    r=(r*10)+x\n",
    "    n=int(n/10)\n",
    "if r==n2:\n",
    "    print(\"Palindrome Number\")\n",
    "else:\n",
    "    print(\"Not a Palindrome Number\")"
   ]
  },
  {
   "cell_type": "code",
   "execution_count": 3,
   "metadata": {},
   "outputs": [
    {
     "name": "stdout",
     "output_type": "stream",
     "text": [
      "* \n",
      "* * \n",
      "* * * \n",
      "* * * * \n"
     ]
    }
   ],
   "source": [
    "for i in range(5):\n",
    "    print(\"* \"*i)"
   ]
  },
  {
   "cell_type": "code",
   "execution_count": 10,
   "metadata": {
    "scrolled": true
   },
   "outputs": [
    {
     "name": "stdout",
     "output_type": "stream",
     "text": [
      "Enter Value of n: 6\n",
      "            \n",
      "          * \n",
      "        * * \n",
      "      * * * \n",
      "    * * * * \n",
      "  * * * * * \n",
      "* * * * * * \n"
     ]
    }
   ],
   "source": [
    "n=int(input(\"Enter Value of n: \"))\n",
    "for i in range(n+1):\n",
    "    print(\"  \"*(n-i),end=\"\")\n",
    "    print(\"* \"*(i))"
   ]
  },
  {
   "cell_type": "code",
   "execution_count": 17,
   "metadata": {},
   "outputs": [
    {
     "name": "stdout",
     "output_type": "stream",
     "text": [
      "Enter Value of n: 4\n",
      "    *\n",
      "   * *\n",
      "  * * *\n",
      " * * * *\n"
     ]
    }
   ],
   "source": [
    "n=int(input(\"Enter Value of n: \"))\n",
    "for i in range(1,n+1):\n",
    "    print(\" \"*(n-i)+\" *\"*(i))"
   ]
  },
  {
   "cell_type": "code",
   "execution_count": 24,
   "metadata": {},
   "outputs": [
    {
     "name": "stdout",
     "output_type": "stream",
     "text": [
      "Enter Value of n: 4\n",
      "1 \n",
      "2 2 \n",
      "3 3 3 \n",
      "4 4 4 4 \n"
     ]
    }
   ],
   "source": [
    "n=int(input(\"Enter Value of n: \"))\n",
    "for i in range(1,n+1):\n",
    "    print((str(i)+\" \")*i)"
   ]
  },
  {
   "cell_type": "code",
   "execution_count": 31,
   "metadata": {},
   "outputs": [
    {
     "name": "stdout",
     "output_type": "stream",
     "text": [
      "A \n",
      "A B \n",
      "A B C \n",
      "A B C D \n",
      "A B C D E \n"
     ]
    }
   ],
   "source": [
    "for i in range(65,70):\n",
    "    for j in range(65,i+1):\n",
    "        print(chr(j),end=\" \")\n",
    "    print()"
   ]
  },
  {
   "cell_type": "code",
   "execution_count": 39,
   "metadata": {},
   "outputs": [
    {
     "name": "stdout",
     "output_type": "stream",
     "text": [
      "    *\n",
      "   * *\n",
      "  * * *\n",
      " * * * *\n",
      "  * * *\n",
      "   * *\n",
      "    *\n"
     ]
    }
   ],
   "source": [
    "for i in range(1,4):\n",
    "    print(\" \"*(4-i)+\" *\"*(i))\n",
    "for i in range(4):\n",
    "    print(\" \"*(i)+\" *\"*(4-i))    "
   ]
  },
  {
   "cell_type": "code",
   "execution_count": 3,
   "metadata": {
    "scrolled": true
   },
   "outputs": [
    {
     "name": "stdout",
     "output_type": "stream",
     "text": [
      "Enter Number: 7\n",
      "A B C D E F G \n",
      " A B C D E F \n",
      "  A B C D E \n",
      "   A B C D \n",
      "    A B C \n",
      "     A B \n",
      "      A \n"
     ]
    }
   ],
   "source": [
    "n=int(input(\"Enter Number: \"))\n",
    "for i in range(n):\n",
    "    print(\" \"*i,end=\"\")\n",
    "    for j in range(n-i):\n",
    "        print(chr(j+65),end=\" \")\n",
    "    print()"
   ]
  },
  {
   "cell_type": "code",
   "execution_count": 9,
   "metadata": {
    "scrolled": false
   },
   "outputs": [
    {
     "name": "stdout",
     "output_type": "stream",
     "text": [
      "Enter a Word: PYTHON\n",
      "P \n",
      "P Y \n",
      "P Y T \n",
      "P Y T H \n",
      "P Y T H O \n",
      "P Y T H O N \n"
     ]
    }
   ],
   "source": [
    "str=input(\"Enter a Word: \")\n",
    "for i in range(len(str)):\n",
    "    for j in range (i+1):\n",
    "        print(str[j],end=\" \")\n",
    "    print()"
   ]
  },
  {
   "cell_type": "code",
   "execution_count": 66,
   "metadata": {},
   "outputs": [
    {
     "name": "stdout",
     "output_type": "stream",
     "text": [
      "1\n",
      "3\n",
      "5\n",
      "7\n",
      "9\n",
      "11\n",
      "13\n",
      "15\n",
      "17\n",
      "19\n"
     ]
    }
   ],
   "source": [
    "for i in range (20):\n",
    "    if i%2==0:\n",
    "        continue\n",
    "    print(i)"
   ]
  },
  {
   "cell_type": "code",
   "execution_count": 2,
   "metadata": {},
   "outputs": [
    {
     "name": "stdout",
     "output_type": "stream",
     "text": [
      "1\n",
      "3\n",
      "5\n",
      "7\n",
      "9\n",
      "11\n",
      "13\n",
      "15\n",
      "17\n",
      "19\n"
     ]
    }
   ],
   "source": [
    "c=int(0)\n",
    "for i in range (100):\n",
    "    if i%2==0:\n",
    "        continue\n",
    "    print(i)\n",
    "    c+=1\n",
    "    if c==10:\n",
    "        break;"
   ]
  },
  {
   "cell_type": "code",
   "execution_count": 10,
   "metadata": {},
   "outputs": [
    {
     "name": "stdout",
     "output_type": "stream",
     "text": [
      "bdf\n",
      "fdb\n",
      "gfedcba\n"
     ]
    }
   ],
   "source": [
    "s=\"abcdefg\"\n",
    "print(s[-6:-1:2])\n",
    "print(s[-2:-7:-2])\n",
    "print(s[-1:-8:-1])"
   ]
  },
  {
   "cell_type": "code",
   "execution_count": 11,
   "metadata": {},
   "outputs": [
    {
     "name": "stdout",
     "output_type": "stream",
     "text": [
      "Ph cog\n"
     ]
    }
   ],
   "source": [
    "s=\"Python Technology\"\n",
    "print(s[::3])"
   ]
  },
  {
   "cell_type": "code",
   "execution_count": 7,
   "metadata": {},
   "outputs": [
    {
     "name": "stdout",
     "output_type": "stream",
     "text": [
      "['Hello', 'xyz']\n"
     ]
    }
   ],
   "source": [
    "a=['Hello','ab','xyz','xt']\n",
    "for x in a:\n",
    "    if (len(x)<3):\n",
    "        a.remove(x)\n",
    "print(a)"
   ]
  },
  {
   "cell_type": "code",
   "execution_count": 11,
   "metadata": {},
   "outputs": [
    {
     "name": "stdout",
     "output_type": "stream",
     "text": [
      "['aba', 'ababa']\n",
      "2\n"
     ]
    }
   ],
   "source": [
    "a=['Hello','aba','ababa','xyz']\n",
    "for x in a:\n",
    "    if not (x[0]==x[-1] and len(x)>2):\n",
    "        a.remove(x)\n",
    "print(a)\n",
    "print(len(a))"
   ]
  },
  {
   "cell_type": "code",
   "execution_count": 14,
   "metadata": {},
   "outputs": [
    {
     "name": "stdout",
     "output_type": "stream",
     "text": [
      "['ab', 'cd', 'ef']\n"
     ]
    }
   ],
   "source": [
    "a=['ab','ab','cd','cd','cd','ef']\n",
    "for i in a:\n",
    "    if(a.count(i)>1):\n",
    "        a.remove(i)\n",
    "print(a)"
   ]
  },
  {
   "cell_type": "code",
   "execution_count": 1,
   "metadata": {
    "scrolled": true
   },
   "outputs": [
    {
     "name": "stdout",
     "output_type": "stream",
     "text": [
      "['ab', 'ef', 'cd']\n"
     ]
    }
   ],
   "source": [
    "a=['ab','ab','cd','cd','cd','ef']\n",
    "a=list(set(a))\n",
    "print(a)"
   ]
  },
  {
   "cell_type": "code",
   "execution_count": 8,
   "metadata": {},
   "outputs": [
    {
     "name": "stdout",
     "output_type": "stream",
     "text": [
      "{1: 1, 2: 8, 3: 27, 4: 64, 5: 125, 6: 216, 7: 343, 8: 512, 9: 729, 10: 1000}\n"
     ]
    }
   ],
   "source": [
    "d=dict()\n",
    "for i in range(1,11):\n",
    "    d[i]=i**3\n",
    "print (d)"
   ]
  },
  {
   "cell_type": "code",
   "execution_count": 14,
   "metadata": {},
   "outputs": [
    {
     "name": "stdout",
     "output_type": "stream",
     "text": [
      "Counter({'b': 600, 'a': 400, 'd': 200, 'c': 100})\n"
     ]
    }
   ],
   "source": [
    "from collections import Counter\n",
    "a={'a':100, 'b':100, 'c':100}\n",
    "b={'a':300, 'b':500, 'd':200}\n",
    "c=Counter(b)+Counter(a)\n",
    "print(c)"
   ]
  },
  {
   "cell_type": "code",
   "execution_count": 16,
   "metadata": {},
   "outputs": [
    {
     "name": "stdout",
     "output_type": "stream",
     "text": [
      "Enter a Number: 6\n",
      "Even Number\n"
     ]
    }
   ],
   "source": [
    "def check(n):\n",
    "    if(n%2)==0:\n",
    "        print(\"Even Number\")\n",
    "    else:\n",
    "        print(\"Odd Number\")\n",
    "n=int(input(\"Enter a Number: \"))\n",
    "check(n)"
   ]
  },
  {
   "cell_type": "code",
   "execution_count": 18,
   "metadata": {},
   "outputs": [
    {
     "name": "stdout",
     "output_type": "stream",
     "text": [
      "Enter a String: atO\n",
      "2\n"
     ]
    }
   ],
   "source": [
    "def count(n):\n",
    "    m=0\n",
    "    for c in n:\n",
    "        if (c=='A' or c=='E' or c=='I' or c=='O' or c=='U' or c=='a' or c=='e' or c=='i' or c=='o' or c=='u'):\n",
    "            m+=1\n",
    "    print(m)\n",
    "n=input(\"Enter a String: \")\n",
    "count(n)"
   ]
  },
  {
   "cell_type": "code",
   "execution_count": 3,
   "metadata": {},
   "outputs": [
    {
     "name": "stdout",
     "output_type": "stream",
     "text": [
      "Square of 1 is 1\n",
      "Square of 2 is 4\n",
      "Square of 3 is 9\n",
      "Square of 4 is 16\n",
      "Square of 5 is 25\n",
      "Square of 6 is 36\n",
      "Square of 7 is 49\n",
      "Square of 8 is 64\n",
      "Square of 9 is 81\n",
      "Square of 10 is 100\n"
     ]
    }
   ],
   "source": [
    "s=lambda n:n*n\n",
    "for i in range(1,11):\n",
    "    print(\"Square of\",i,\"is\",s(i))"
   ]
  },
  {
   "cell_type": "code",
   "execution_count": null,
   "metadata": {},
   "outputs": [],
   "source": []
  }
 ],
 "metadata": {
  "kernelspec": {
   "display_name": "Python 3",
   "language": "python",
   "name": "python3"
  },
  "language_info": {
   "codemirror_mode": {
    "name": "ipython",
    "version": 3
   },
   "file_extension": ".py",
   "mimetype": "text/x-python",
   "name": "python",
   "nbconvert_exporter": "python",
   "pygments_lexer": "ipython3",
   "version": "3.8.4"
  }
 },
 "nbformat": 4,
 "nbformat_minor": 4
}
